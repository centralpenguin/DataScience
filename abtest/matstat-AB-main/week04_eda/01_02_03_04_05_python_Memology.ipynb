{
 "cells": [
  {
   "cell_type": "markdown",
   "metadata": {},
   "source": [
    "<center>\n",
    "<img src=\"logo.png\" height=\"900\"> \n",
    "</center>\n",
    "\n",
    "# Memology - DataScience & Memes\n",
    "\n",
    "__Тут выражается благодарность [Сергееву Дмитрию](https://github.com/DmitrySerg) за предоставленную тетрадку и собранный набор данных.__ \n",
    "\n",
    "На прошлой неделе мы с вами скачали данные по мемам. В этой тетрадке мы займёмся их предобработкой и разведочным анализом. "
   ]
  },
  {
   "cell_type": "code",
   "execution_count": 4,
   "metadata": {},
   "outputs": [],
   "source": [
    "import numpy as np\n",
    "import pandas as pd\n",
    "\n",
    "import scipy.stats as sts\n",
    "import matplotlib.pyplot as plt\n",
    "import seaborn as sns\n",
    "\n",
    "plt.style.use('ggplot')  # стиль для графиков\n",
    "%matplotlib inline"
   ]
  },
  {
   "cell_type": "markdown",
   "metadata": {},
   "source": [
    "Перед тем, как обучать модели машинного обучения, данные не помешает предварительно изучить. Делать это полезно по нескольким причинам: \n",
    "\n",
    "- разведочный анализ данных позволяет выявить основные проблемы и понять, как именно данные нужно предобработать, чтобы корректно обучить модель\n",
    "- понимание природы данных поможет придумать новые признаки, которые могут улучшить качество модели\n",
    "\n",
    "__Цели:__ \n",
    "\n",
    "- Заняться предобработкой данных, посмотреть какие методы используют для разных переменных\n",
    "- Впоследствии мы воспользуемся этим набором данных для поиска аномалий"
   ]
  },
  {
   "cell_type": "markdown",
   "metadata": {},
   "source": [
    "## 1. Описание набора данных и признаков\n",
    "\n",
    "> В этой части тетрадки мы познакомимся с данными."
   ]
  },
  {
   "cell_type": "code",
   "execution_count": 5,
   "metadata": {},
   "outputs": [
    {
     "data": {
      "text/plain": [
       "(4206, 14)"
      ]
     },
     "execution_count": 5,
     "metadata": {},
     "output_type": "execute_result"
    }
   ],
   "source": [
    "memes = pd.read_csv('data/MEMES_new_short.csv', index_col=0)\n",
    "memes.shape"
   ]
  },
  {
   "cell_type": "code",
   "execution_count": 6,
   "metadata": {},
   "outputs": [
    {
     "data": {
      "text/html": [
       "<div>\n",
       "<style scoped>\n",
       "    .dataframe tbody tr th:only-of-type {\n",
       "        vertical-align: middle;\n",
       "    }\n",
       "\n",
       "    .dataframe tbody tr th {\n",
       "        vertical-align: top;\n",
       "    }\n",
       "\n",
       "    .dataframe thead th {\n",
       "        text-align: right;\n",
       "    }\n",
       "</style>\n",
       "<table border=\"1\" class=\"dataframe\">\n",
       "  <thead>\n",
       "    <tr style=\"text-align: right;\">\n",
       "      <th></th>\n",
       "      <th>name</th>\n",
       "      <th>status</th>\n",
       "      <th>type</th>\n",
       "      <th>origin_year</th>\n",
       "      <th>origin_place</th>\n",
       "      <th>date_added</th>\n",
       "      <th>views</th>\n",
       "      <th>videos</th>\n",
       "      <th>photos</th>\n",
       "      <th>comments</th>\n",
       "      <th>tags</th>\n",
       "      <th>about</th>\n",
       "      <th>origin</th>\n",
       "      <th>other_text</th>\n",
       "    </tr>\n",
       "  </thead>\n",
       "  <tbody>\n",
       "    <tr>\n",
       "      <th>0</th>\n",
       "      <td>Muvvafukka</td>\n",
       "      <td>Submission</td>\n",
       "      <td>Viral Video</td>\n",
       "      <td>2019</td>\n",
       "      <td>Facebook</td>\n",
       "      <td>2019-10-24T04:05:03-04:00</td>\n",
       "      <td>13613</td>\n",
       "      <td>0</td>\n",
       "      <td>7</td>\n",
       "      <td>8</td>\n",
       "      <td>jay-lee hilzinger &amp; maddie flynn, eshayz, davi...</td>\n",
       "      <td>Muvvafukka refers to a viral video of two teen...</td>\n",
       "      <td>While it appears the original video is deleted...</td>\n",
       "      <td>Butler also made a screenshot of Hilzinger's f...</td>\n",
       "    </tr>\n",
       "    <tr>\n",
       "      <th>1</th>\n",
       "      <td>Martyrdom (Drop a Live Grenade When Killed)</td>\n",
       "      <td>Submission</td>\n",
       "      <td>Reaction</td>\n",
       "      <td>2007</td>\n",
       "      <td>Call of Duty 4: Modern Warfare</td>\n",
       "      <td>2019-10-23T12:13:13-04:00</td>\n",
       "      <td>13973</td>\n",
       "      <td>0</td>\n",
       "      <td>17</td>\n",
       "      <td>8</td>\n",
       "      <td>perk, martyrdom, live grenade, reaction image,...</td>\n",
       "      <td>Martyrdom (Drop a Live Grenade When Killed) re...</td>\n",
       "      <td>On April 12th, 2007, first person shooter Call...</td>\n",
       "      <td>Spread The exact first instance of use of the ...</td>\n",
       "    </tr>\n",
       "    <tr>\n",
       "      <th>2</th>\n",
       "      <td>Wet Kylo Ren</td>\n",
       "      <td>Submission</td>\n",
       "      <td>Image Macro</td>\n",
       "      <td>2019</td>\n",
       "      <td>Star Wars: The Rise of Skywalker (Movie Trailer)</td>\n",
       "      <td>2019-10-23T11:56:19-04:00</td>\n",
       "      <td>5339</td>\n",
       "      <td>0</td>\n",
       "      <td>12</td>\n",
       "      <td>7</td>\n",
       "      <td>kylo ren, star wars the rise of skywalker, ada...</td>\n",
       "      <td>Wet Kylo Ren is an image macro series based on...</td>\n",
       "      <td>On October 21st, 2019, the final trailer for t...</td>\n",
       "      <td>Shortly after the trailer's release, some on T...</td>\n",
       "    </tr>\n",
       "    <tr>\n",
       "      <th>3</th>\n",
       "      <td>You're Invited</td>\n",
       "      <td>Submission</td>\n",
       "      <td>Parody</td>\n",
       "      <td>2019</td>\n",
       "      <td>TikTok</td>\n",
       "      <td>2019-10-23T10:32:04-04:00</td>\n",
       "      <td>2249</td>\n",
       "      <td>0</td>\n",
       "      <td>0</td>\n",
       "      <td>0</td>\n",
       "      <td>byob, byow, party, flyer, charge, door</td>\n",
       "      <td>You're Invited is a series of TikTok videos pa...</td>\n",
       "      <td>On October 13th, 2019, TikTok user @coolguycol...</td>\n",
       "      <td>Spread On October 15th, 2019, @moneyxmo upload...</td>\n",
       "    </tr>\n",
       "    <tr>\n",
       "      <th>4</th>\n",
       "      <td>Companies Posting Their Own Names</td>\n",
       "      <td>Submission</td>\n",
       "      <td>Participatory Media</td>\n",
       "      <td>2019</td>\n",
       "      <td>Facebook</td>\n",
       "      <td>2019-10-25T12:42:22-04:00</td>\n",
       "      <td>5662</td>\n",
       "      <td>0</td>\n",
       "      <td>16</td>\n",
       "      <td>33</td>\n",
       "      <td>social media campaign, brands, companies, max ...</td>\n",
       "      <td>Companies Posting Their Own Names refers to a ...</td>\n",
       "      <td>On October 18th, 2019, Australian musician and...</td>\n",
       "      <td>Before October 2019, a number of companies and...</td>\n",
       "    </tr>\n",
       "  </tbody>\n",
       "</table>\n",
       "</div>"
      ],
      "text/plain": [
       "                                          name      status  \\\n",
       "0                                   Muvvafukka  Submission   \n",
       "1  Martyrdom (Drop a Live Grenade When Killed)  Submission   \n",
       "2                                 Wet Kylo Ren  Submission   \n",
       "3                               You're Invited  Submission   \n",
       "4            Companies Posting Their Own Names  Submission   \n",
       "\n",
       "                  type origin_year  \\\n",
       "0          Viral Video        2019   \n",
       "1             Reaction        2007   \n",
       "2          Image Macro        2019   \n",
       "3               Parody        2019   \n",
       "4  Participatory Media        2019   \n",
       "\n",
       "                                       origin_place  \\\n",
       "0                                          Facebook   \n",
       "1                    Call of Duty 4: Modern Warfare   \n",
       "2  Star Wars: The Rise of Skywalker (Movie Trailer)   \n",
       "3                                            TikTok   \n",
       "4                                          Facebook   \n",
       "\n",
       "                  date_added  views  videos  photos  comments  \\\n",
       "0  2019-10-24T04:05:03-04:00  13613       0       7         8   \n",
       "1  2019-10-23T12:13:13-04:00  13973       0      17         8   \n",
       "2  2019-10-23T11:56:19-04:00   5339       0      12         7   \n",
       "3  2019-10-23T10:32:04-04:00   2249       0       0         0   \n",
       "4  2019-10-25T12:42:22-04:00   5662       0      16        33   \n",
       "\n",
       "                                                tags  \\\n",
       "0  jay-lee hilzinger & maddie flynn, eshayz, davi...   \n",
       "1  perk, martyrdom, live grenade, reaction image,...   \n",
       "2  kylo ren, star wars the rise of skywalker, ada...   \n",
       "3             byob, byow, party, flyer, charge, door   \n",
       "4  social media campaign, brands, companies, max ...   \n",
       "\n",
       "                                               about  \\\n",
       "0  Muvvafukka refers to a viral video of two teen...   \n",
       "1  Martyrdom (Drop a Live Grenade When Killed) re...   \n",
       "2  Wet Kylo Ren is an image macro series based on...   \n",
       "3  You're Invited is a series of TikTok videos pa...   \n",
       "4  Companies Posting Their Own Names refers to a ...   \n",
       "\n",
       "                                              origin  \\\n",
       "0  While it appears the original video is deleted...   \n",
       "1  On April 12th, 2007, first person shooter Call...   \n",
       "2  On October 21st, 2019, the final trailer for t...   \n",
       "3  On October 13th, 2019, TikTok user @coolguycol...   \n",
       "4  On October 18th, 2019, Australian musician and...   \n",
       "\n",
       "                                          other_text  \n",
       "0  Butler also made a screenshot of Hilzinger's f...  \n",
       "1  Spread The exact first instance of use of the ...  \n",
       "2  Shortly after the trailer's release, some on T...  \n",
       "3  Spread On October 15th, 2019, @moneyxmo upload...  \n",
       "4  Before October 2019, a number of companies and...  "
      ]
     },
     "execution_count": 6,
     "metadata": {},
     "output_type": "execute_result"
    }
   ],
   "source": [
    "memes.head()"
   ]
  },
  {
   "cell_type": "code",
   "execution_count": 7,
   "metadata": {},
   "outputs": [
    {
     "name": "stdout",
     "output_type": "stream",
     "text": [
      "<class 'pandas.core.frame.DataFrame'>\n",
      "Index: 4206 entries, 0 to 4205\n",
      "Data columns (total 14 columns):\n",
      " #   Column        Non-Null Count  Dtype \n",
      "---  ------        --------------  ----- \n",
      " 0   name          4206 non-null   object\n",
      " 1   status        4206 non-null   object\n",
      " 2   type          1786 non-null   object\n",
      " 3   origin_year   4206 non-null   object\n",
      " 4   origin_place  4203 non-null   object\n",
      " 5   date_added    4206 non-null   object\n",
      " 6   views         4206 non-null   int64 \n",
      " 7   videos        4206 non-null   int64 \n",
      " 8   photos        4206 non-null   int64 \n",
      " 9   comments      4206 non-null   int64 \n",
      " 10  tags          4205 non-null   object\n",
      " 11  about         3798 non-null   object\n",
      " 12  origin        2524 non-null   object\n",
      " 13  other_text    3508 non-null   object\n",
      "dtypes: int64(4), object(10)\n",
      "memory usage: 492.9+ KB\n"
     ]
    }
   ],
   "source": [
    "memes.info()"
   ]
  },
  {
   "cell_type": "code",
   "execution_count": 8,
   "metadata": {},
   "outputs": [
    {
     "data": {
      "text/plain": [
       "name            object\n",
       "status          object\n",
       "type            object\n",
       "origin_year     object\n",
       "origin_place    object\n",
       "date_added      object\n",
       "views            int64\n",
       "videos           int64\n",
       "photos           int64\n",
       "comments         int64\n",
       "tags            object\n",
       "about           object\n",
       "origin          object\n",
       "other_text      object\n",
       "dtype: object"
      ]
     },
     "execution_count": 8,
     "metadata": {},
     "output_type": "execute_result"
    }
   ],
   "source": [
    "memes.dtypes"
   ]
  },
  {
   "cell_type": "markdown",
   "metadata": {},
   "source": [
    "__Пройдемся по переменным:__\n",
    "\n",
    "- `name` - название мема\n",
    "- `added` - дата добавления\n",
    "- `views` - число просмотров на сайте\n",
    "- `comments` - число комментариев\n",
    "- `status` - категориальная переменная, статус присваивается на сайте в зависимости от \"одобрения\" мема сообществом\n",
    "- `origin_year` - год, к которому относится первоисточник появления картинки (например, год выхода определенной серии Симпсонов)\n",
    "- `tags` - тэги, также являются категориями\n",
    "- `about` - описание мема\n",
    "- `origin` - описание происхождения\n",
    "- `spread` - где приобрел особенную популярность"
   ]
  },
  {
   "cell_type": "code",
   "execution_count": 9,
   "metadata": {},
   "outputs": [
    {
     "data": {
      "text/html": [
       "<div>\n",
       "<style scoped>\n",
       "    .dataframe tbody tr th:only-of-type {\n",
       "        vertical-align: middle;\n",
       "    }\n",
       "\n",
       "    .dataframe tbody tr th {\n",
       "        vertical-align: top;\n",
       "    }\n",
       "\n",
       "    .dataframe thead th {\n",
       "        text-align: right;\n",
       "    }\n",
       "</style>\n",
       "<table border=\"1\" class=\"dataframe\">\n",
       "  <thead>\n",
       "    <tr style=\"text-align: right;\">\n",
       "      <th></th>\n",
       "      <th>views</th>\n",
       "      <th>videos</th>\n",
       "      <th>photos</th>\n",
       "      <th>comments</th>\n",
       "    </tr>\n",
       "  </thead>\n",
       "  <tbody>\n",
       "    <tr>\n",
       "      <th>count</th>\n",
       "      <td>4.206000e+03</td>\n",
       "      <td>4206.000000</td>\n",
       "      <td>4206.000000</td>\n",
       "      <td>4206.000000</td>\n",
       "    </tr>\n",
       "    <tr>\n",
       "      <th>mean</th>\n",
       "      <td>7.226205e+04</td>\n",
       "      <td>5.820257</td>\n",
       "      <td>51.473371</td>\n",
       "      <td>39.009510</td>\n",
       "    </tr>\n",
       "    <tr>\n",
       "      <th>std</th>\n",
       "      <td>2.470807e+05</td>\n",
       "      <td>19.757376</td>\n",
       "      <td>497.391877</td>\n",
       "      <td>97.193556</td>\n",
       "    </tr>\n",
       "    <tr>\n",
       "      <th>min</th>\n",
       "      <td>9.700000e+01</td>\n",
       "      <td>-1.000000</td>\n",
       "      <td>0.000000</td>\n",
       "      <td>0.000000</td>\n",
       "    </tr>\n",
       "    <tr>\n",
       "      <th>25%</th>\n",
       "      <td>3.874750e+03</td>\n",
       "      <td>0.000000</td>\n",
       "      <td>1.000000</td>\n",
       "      <td>4.000000</td>\n",
       "    </tr>\n",
       "    <tr>\n",
       "      <th>50%</th>\n",
       "      <td>1.574300e+04</td>\n",
       "      <td>0.000000</td>\n",
       "      <td>10.000000</td>\n",
       "      <td>13.000000</td>\n",
       "    </tr>\n",
       "    <tr>\n",
       "      <th>75%</th>\n",
       "      <td>5.336375e+04</td>\n",
       "      <td>4.000000</td>\n",
       "      <td>26.000000</td>\n",
       "      <td>35.750000</td>\n",
       "    </tr>\n",
       "    <tr>\n",
       "      <th>max</th>\n",
       "      <td>9.095857e+06</td>\n",
       "      <td>469.000000</td>\n",
       "      <td>28911.000000</td>\n",
       "      <td>1713.000000</td>\n",
       "    </tr>\n",
       "  </tbody>\n",
       "</table>\n",
       "</div>"
      ],
      "text/plain": [
       "              views       videos        photos     comments\n",
       "count  4.206000e+03  4206.000000   4206.000000  4206.000000\n",
       "mean   7.226205e+04     5.820257     51.473371    39.009510\n",
       "std    2.470807e+05    19.757376    497.391877    97.193556\n",
       "min    9.700000e+01    -1.000000      0.000000     0.000000\n",
       "25%    3.874750e+03     0.000000      1.000000     4.000000\n",
       "50%    1.574300e+04     0.000000     10.000000    13.000000\n",
       "75%    5.336375e+04     4.000000     26.000000    35.750000\n",
       "max    9.095857e+06   469.000000  28911.000000  1713.000000"
      ]
     },
     "execution_count": 9,
     "metadata": {},
     "output_type": "execute_result"
    }
   ],
   "source": [
    "memes.describe()"
   ]
  },
  {
   "cell_type": "markdown",
   "metadata": {},
   "source": [
    "Можно выбрать тип переменных, для которых нам бы хотелось увидеть сводную статистику. "
   ]
  },
  {
   "cell_type": "code",
   "execution_count": 10,
   "metadata": {},
   "outputs": [
    {
     "data": {
      "text/html": [
       "<div>\n",
       "<style scoped>\n",
       "    .dataframe tbody tr th:only-of-type {\n",
       "        vertical-align: middle;\n",
       "    }\n",
       "\n",
       "    .dataframe tbody tr th {\n",
       "        vertical-align: top;\n",
       "    }\n",
       "\n",
       "    .dataframe thead th {\n",
       "        text-align: right;\n",
       "    }\n",
       "</style>\n",
       "<table border=\"1\" class=\"dataframe\">\n",
       "  <thead>\n",
       "    <tr style=\"text-align: right;\">\n",
       "      <th></th>\n",
       "      <th>name</th>\n",
       "      <th>status</th>\n",
       "      <th>type</th>\n",
       "      <th>origin_year</th>\n",
       "      <th>origin_place</th>\n",
       "      <th>date_added</th>\n",
       "      <th>tags</th>\n",
       "      <th>about</th>\n",
       "      <th>origin</th>\n",
       "      <th>other_text</th>\n",
       "    </tr>\n",
       "  </thead>\n",
       "  <tbody>\n",
       "    <tr>\n",
       "      <th>count</th>\n",
       "      <td>4206</td>\n",
       "      <td>4206</td>\n",
       "      <td>1786</td>\n",
       "      <td>4206</td>\n",
       "      <td>4203</td>\n",
       "      <td>4206</td>\n",
       "      <td>4205</td>\n",
       "      <td>3798</td>\n",
       "      <td>2524</td>\n",
       "      <td>3508</td>\n",
       "    </tr>\n",
       "    <tr>\n",
       "      <th>unique</th>\n",
       "      <td>4205</td>\n",
       "      <td>3</td>\n",
       "      <td>98</td>\n",
       "      <td>117</td>\n",
       "      <td>1884</td>\n",
       "      <td>4204</td>\n",
       "      <td>4001</td>\n",
       "      <td>3648</td>\n",
       "      <td>2501</td>\n",
       "      <td>3503</td>\n",
       "    </tr>\n",
       "    <tr>\n",
       "      <th>top</th>\n",
       "      <td>NO REFUNDS</td>\n",
       "      <td>Submission</td>\n",
       "      <td>Exploitable</td>\n",
       "      <td>Unknown</td>\n",
       "      <td>Unknown</td>\n",
       "      <td>2016-10-16T01:19:03-04:00</td>\n",
       "      <td>none...</td>\n",
       "      <td>NOTE: This Entry was related to the 2013 April...</td>\n",
       "      <td>\\n\\n\\n</td>\n",
       "      <td>Spread Various Examples Templates Search Inter...</td>\n",
       "    </tr>\n",
       "    <tr>\n",
       "      <th>freq</th>\n",
       "      <td>2</td>\n",
       "      <td>2482</td>\n",
       "      <td>152</td>\n",
       "      <td>349</td>\n",
       "      <td>535</td>\n",
       "      <td>2</td>\n",
       "      <td>168</td>\n",
       "      <td>58</td>\n",
       "      <td>11</td>\n",
       "      <td>3</td>\n",
       "    </tr>\n",
       "  </tbody>\n",
       "</table>\n",
       "</div>"
      ],
      "text/plain": [
       "              name      status         type origin_year origin_place  \\\n",
       "count         4206        4206         1786        4206         4203   \n",
       "unique        4205           3           98         117         1884   \n",
       "top     NO REFUNDS  Submission  Exploitable     Unknown      Unknown   \n",
       "freq             2        2482          152         349          535   \n",
       "\n",
       "                       date_added     tags  \\\n",
       "count                        4206     4205   \n",
       "unique                       4204     4001   \n",
       "top     2016-10-16T01:19:03-04:00  none...   \n",
       "freq                            2      168   \n",
       "\n",
       "                                                    about  origin  \\\n",
       "count                                                3798    2524   \n",
       "unique                                               3648    2501   \n",
       "top     NOTE: This Entry was related to the 2013 April...  \\n\\n\\n   \n",
       "freq                                                   58      11   \n",
       "\n",
       "                                               other_text  \n",
       "count                                                3508  \n",
       "unique                                               3503  \n",
       "top     Spread Various Examples Templates Search Inter...  \n",
       "freq                                                    3  "
      ]
     },
     "execution_count": 10,
     "metadata": {},
     "output_type": "execute_result"
    }
   ],
   "source": [
    "memes.describe(include='object')"
   ]
  },
  {
   "cell_type": "markdown",
   "metadata": {},
   "source": [
    "Конечно же, в первую очередь хочется посмотреть на мем с самым большим числом просмотров. "
   ]
  },
  {
   "cell_type": "code",
   "execution_count": 11,
   "metadata": {},
   "outputs": [
    {
     "data": {
      "text/html": [
       "<div>\n",
       "<style scoped>\n",
       "    .dataframe tbody tr th:only-of-type {\n",
       "        vertical-align: middle;\n",
       "    }\n",
       "\n",
       "    .dataframe tbody tr th {\n",
       "        vertical-align: top;\n",
       "    }\n",
       "\n",
       "    .dataframe thead th {\n",
       "        text-align: right;\n",
       "    }\n",
       "</style>\n",
       "<table border=\"1\" class=\"dataframe\">\n",
       "  <thead>\n",
       "    <tr style=\"text-align: right;\">\n",
       "      <th></th>\n",
       "      <th>name</th>\n",
       "      <th>status</th>\n",
       "      <th>type</th>\n",
       "      <th>origin_year</th>\n",
       "      <th>origin_place</th>\n",
       "      <th>date_added</th>\n",
       "      <th>views</th>\n",
       "      <th>videos</th>\n",
       "      <th>photos</th>\n",
       "      <th>comments</th>\n",
       "      <th>tags</th>\n",
       "      <th>about</th>\n",
       "      <th>origin</th>\n",
       "      <th>other_text</th>\n",
       "    </tr>\n",
       "  </thead>\n",
       "  <tbody>\n",
       "    <tr>\n",
       "      <th>3958</th>\n",
       "      <td>Me Gusta</td>\n",
       "      <td>Confirmed</td>\n",
       "      <td>Character</td>\n",
       "      <td>2010</td>\n",
       "      <td>4chan</td>\n",
       "      <td>2018-09-27T16:03:51-04:00</td>\n",
       "      <td>9095857</td>\n",
       "      <td>21</td>\n",
       "      <td>518</td>\n",
       "      <td>142</td>\n",
       "      <td>4chan, rageguy, spinoff, 4 panel comic, me gus...</td>\n",
       "      <td>Me Gusta is a rage comic face that is typicall...</td>\n",
       "      <td>The colloquial Spanish phrase \"Me Gusta\" was f...</td>\n",
       "      <td>Spread In December 2010, the single topic blog...</td>\n",
       "    </tr>\n",
       "  </tbody>\n",
       "</table>\n",
       "</div>"
      ],
      "text/plain": [
       "          name     status       type origin_year origin_place  \\\n",
       "3958  Me Gusta  Confirmed  Character        2010        4chan   \n",
       "\n",
       "                     date_added    views  videos  photos  comments  \\\n",
       "3958  2018-09-27T16:03:51-04:00  9095857      21     518       142   \n",
       "\n",
       "                                                   tags  \\\n",
       "3958  4chan, rageguy, spinoff, 4 panel comic, me gus...   \n",
       "\n",
       "                                                  about  \\\n",
       "3958  Me Gusta is a rage comic face that is typicall...   \n",
       "\n",
       "                                                 origin  \\\n",
       "3958  The colloquial Spanish phrase \"Me Gusta\" was f...   \n",
       "\n",
       "                                             other_text  \n",
       "3958  Spread In December 2010, the single topic blog...  "
      ]
     },
     "execution_count": 11,
     "metadata": {},
     "output_type": "execute_result"
    }
   ],
   "source": [
    "memes[memes.views == memes.views.max()]"
   ]
  },
  {
   "cell_type": "markdown",
   "metadata": {},
   "source": [
    "Внутри нашего набора данных содержутся переменные разного типа: непрерывные, категориальные, текстовые, связанные со временем. Чтобы на этих данных обучить какую-то модель, нужно все эти переменные предобработать. Этим мы дальше и займёмся. "
   ]
  },
  {
   "cell_type": "markdown",
   "metadata": {},
   "source": [
    "<center>\n",
    "<img src=\"https://hdwallsbox.com/wallpapers/m/11/humor-meme-me-gusta-m10259.jpg\" width=\"600\"> \n",
    "</center>"
   ]
  },
  {
   "cell_type": "markdown",
   "metadata": {},
   "source": [
    "## 2. Работа со временем\n",
    "\n",
    "> В этой части тетрадки мы будем работать с переменными, которые описывают время.\n",
    "\n",
    "Преобразуем переменную `added` в формат `datetime` и вытащим из неё час, день недели, месяц и год добавления мема. "
   ]
  },
  {
   "cell_type": "code",
   "execution_count": 12,
   "metadata": {},
   "outputs": [
    {
     "data": {
      "text/html": [
       "<div>\n",
       "<style scoped>\n",
       "    .dataframe tbody tr th:only-of-type {\n",
       "        vertical-align: middle;\n",
       "    }\n",
       "\n",
       "    .dataframe tbody tr th {\n",
       "        vertical-align: top;\n",
       "    }\n",
       "\n",
       "    .dataframe thead th {\n",
       "        text-align: right;\n",
       "    }\n",
       "</style>\n",
       "<table border=\"1\" class=\"dataframe\">\n",
       "  <thead>\n",
       "    <tr style=\"text-align: right;\">\n",
       "      <th></th>\n",
       "      <th>name</th>\n",
       "      <th>status</th>\n",
       "      <th>type</th>\n",
       "      <th>origin_year</th>\n",
       "      <th>origin_place</th>\n",
       "      <th>date_added</th>\n",
       "      <th>views</th>\n",
       "      <th>videos</th>\n",
       "      <th>photos</th>\n",
       "      <th>comments</th>\n",
       "      <th>tags</th>\n",
       "      <th>about</th>\n",
       "      <th>origin</th>\n",
       "      <th>other_text</th>\n",
       "    </tr>\n",
       "  </thead>\n",
       "  <tbody>\n",
       "    <tr>\n",
       "      <th>0</th>\n",
       "      <td>Muvvafukka</td>\n",
       "      <td>Submission</td>\n",
       "      <td>Viral Video</td>\n",
       "      <td>2019</td>\n",
       "      <td>Facebook</td>\n",
       "      <td>2019-10-24T04:05:03-04:00</td>\n",
       "      <td>13613</td>\n",
       "      <td>0</td>\n",
       "      <td>7</td>\n",
       "      <td>8</td>\n",
       "      <td>jay-lee hilzinger &amp; maddie flynn, eshayz, davi...</td>\n",
       "      <td>Muvvafukka refers to a viral video of two teen...</td>\n",
       "      <td>While it appears the original video is deleted...</td>\n",
       "      <td>Butler also made a screenshot of Hilzinger's f...</td>\n",
       "    </tr>\n",
       "    <tr>\n",
       "      <th>1</th>\n",
       "      <td>Martyrdom (Drop a Live Grenade When Killed)</td>\n",
       "      <td>Submission</td>\n",
       "      <td>Reaction</td>\n",
       "      <td>2007</td>\n",
       "      <td>Call of Duty 4: Modern Warfare</td>\n",
       "      <td>2019-10-23T12:13:13-04:00</td>\n",
       "      <td>13973</td>\n",
       "      <td>0</td>\n",
       "      <td>17</td>\n",
       "      <td>8</td>\n",
       "      <td>perk, martyrdom, live grenade, reaction image,...</td>\n",
       "      <td>Martyrdom (Drop a Live Grenade When Killed) re...</td>\n",
       "      <td>On April 12th, 2007, first person shooter Call...</td>\n",
       "      <td>Spread The exact first instance of use of the ...</td>\n",
       "    </tr>\n",
       "    <tr>\n",
       "      <th>2</th>\n",
       "      <td>Wet Kylo Ren</td>\n",
       "      <td>Submission</td>\n",
       "      <td>Image Macro</td>\n",
       "      <td>2019</td>\n",
       "      <td>Star Wars: The Rise of Skywalker (Movie Trailer)</td>\n",
       "      <td>2019-10-23T11:56:19-04:00</td>\n",
       "      <td>5339</td>\n",
       "      <td>0</td>\n",
       "      <td>12</td>\n",
       "      <td>7</td>\n",
       "      <td>kylo ren, star wars the rise of skywalker, ada...</td>\n",
       "      <td>Wet Kylo Ren is an image macro series based on...</td>\n",
       "      <td>On October 21st, 2019, the final trailer for t...</td>\n",
       "      <td>Shortly after the trailer's release, some on T...</td>\n",
       "    </tr>\n",
       "    <tr>\n",
       "      <th>3</th>\n",
       "      <td>You're Invited</td>\n",
       "      <td>Submission</td>\n",
       "      <td>Parody</td>\n",
       "      <td>2019</td>\n",
       "      <td>TikTok</td>\n",
       "      <td>2019-10-23T10:32:04-04:00</td>\n",
       "      <td>2249</td>\n",
       "      <td>0</td>\n",
       "      <td>0</td>\n",
       "      <td>0</td>\n",
       "      <td>byob, byow, party, flyer, charge, door</td>\n",
       "      <td>You're Invited is a series of TikTok videos pa...</td>\n",
       "      <td>On October 13th, 2019, TikTok user @coolguycol...</td>\n",
       "      <td>Spread On October 15th, 2019, @moneyxmo upload...</td>\n",
       "    </tr>\n",
       "    <tr>\n",
       "      <th>4</th>\n",
       "      <td>Companies Posting Their Own Names</td>\n",
       "      <td>Submission</td>\n",
       "      <td>Participatory Media</td>\n",
       "      <td>2019</td>\n",
       "      <td>Facebook</td>\n",
       "      <td>2019-10-25T12:42:22-04:00</td>\n",
       "      <td>5662</td>\n",
       "      <td>0</td>\n",
       "      <td>16</td>\n",
       "      <td>33</td>\n",
       "      <td>social media campaign, brands, companies, max ...</td>\n",
       "      <td>Companies Posting Their Own Names refers to a ...</td>\n",
       "      <td>On October 18th, 2019, Australian musician and...</td>\n",
       "      <td>Before October 2019, a number of companies and...</td>\n",
       "    </tr>\n",
       "  </tbody>\n",
       "</table>\n",
       "</div>"
      ],
      "text/plain": [
       "                                          name      status  \\\n",
       "0                                   Muvvafukka  Submission   \n",
       "1  Martyrdom (Drop a Live Grenade When Killed)  Submission   \n",
       "2                                 Wet Kylo Ren  Submission   \n",
       "3                               You're Invited  Submission   \n",
       "4            Companies Posting Their Own Names  Submission   \n",
       "\n",
       "                  type origin_year  \\\n",
       "0          Viral Video        2019   \n",
       "1             Reaction        2007   \n",
       "2          Image Macro        2019   \n",
       "3               Parody        2019   \n",
       "4  Participatory Media        2019   \n",
       "\n",
       "                                       origin_place  \\\n",
       "0                                          Facebook   \n",
       "1                    Call of Duty 4: Modern Warfare   \n",
       "2  Star Wars: The Rise of Skywalker (Movie Trailer)   \n",
       "3                                            TikTok   \n",
       "4                                          Facebook   \n",
       "\n",
       "                  date_added  views  videos  photos  comments  \\\n",
       "0  2019-10-24T04:05:03-04:00  13613       0       7         8   \n",
       "1  2019-10-23T12:13:13-04:00  13973       0      17         8   \n",
       "2  2019-10-23T11:56:19-04:00   5339       0      12         7   \n",
       "3  2019-10-23T10:32:04-04:00   2249       0       0         0   \n",
       "4  2019-10-25T12:42:22-04:00   5662       0      16        33   \n",
       "\n",
       "                                                tags  \\\n",
       "0  jay-lee hilzinger & maddie flynn, eshayz, davi...   \n",
       "1  perk, martyrdom, live grenade, reaction image,...   \n",
       "2  kylo ren, star wars the rise of skywalker, ada...   \n",
       "3             byob, byow, party, flyer, charge, door   \n",
       "4  social media campaign, brands, companies, max ...   \n",
       "\n",
       "                                               about  \\\n",
       "0  Muvvafukka refers to a viral video of two teen...   \n",
       "1  Martyrdom (Drop a Live Grenade When Killed) re...   \n",
       "2  Wet Kylo Ren is an image macro series based on...   \n",
       "3  You're Invited is a series of TikTok videos pa...   \n",
       "4  Companies Posting Their Own Names refers to a ...   \n",
       "\n",
       "                                              origin  \\\n",
       "0  While it appears the original video is deleted...   \n",
       "1  On April 12th, 2007, first person shooter Call...   \n",
       "2  On October 21st, 2019, the final trailer for t...   \n",
       "3  On October 13th, 2019, TikTok user @coolguycol...   \n",
       "4  On October 18th, 2019, Australian musician and...   \n",
       "\n",
       "                                          other_text  \n",
       "0  Butler also made a screenshot of Hilzinger's f...  \n",
       "1  Spread The exact first instance of use of the ...  \n",
       "2  Shortly after the trailer's release, some on T...  \n",
       "3  Spread On October 15th, 2019, @moneyxmo upload...  \n",
       "4  Before October 2019, a number of companies and...  "
      ]
     },
     "execution_count": 12,
     "metadata": {},
     "output_type": "execute_result"
    }
   ],
   "source": [
    "memes.head()"
   ]
  },
  {
   "cell_type": "code",
   "execution_count": 13,
   "metadata": {},
   "outputs": [],
   "source": [
    "memes['Timestamp'] = pd.to_datetime(memes.date_added)"
   ]
  },
  {
   "cell_type": "code",
   "execution_count": 14,
   "metadata": {},
   "outputs": [
    {
     "data": {
      "text/plain": [
       "Timestamp('2019-10-24 04:05:03-0400', tz='UTC-04:00')"
      ]
     },
     "execution_count": 14,
     "metadata": {},
     "output_type": "execute_result"
    }
   ],
   "source": [
    "memes.Timestamp.loc[0]"
   ]
  },
  {
   "cell_type": "code",
   "execution_count": 15,
   "metadata": {},
   "outputs": [
    {
     "data": {
      "text/plain": [
       "1571904303.0"
      ]
     },
     "execution_count": 15,
     "metadata": {},
     "output_type": "execute_result"
    }
   ],
   "source": [
    "t = memes.Timestamp.loc[0]\n",
    "t.timestamp()"
   ]
  },
  {
   "cell_type": "code",
   "execution_count": 16,
   "metadata": {},
   "outputs": [
    {
     "data": {
      "text/plain": [
       "(2019, 10, 24, 4)"
      ]
     },
     "execution_count": 16,
     "metadata": {},
     "output_type": "execute_result"
    }
   ],
   "source": [
    "t.year, t.month, t.day, t.hour"
   ]
  },
  {
   "cell_type": "code",
   "execution_count": 17,
   "metadata": {},
   "outputs": [
    {
     "data": {
      "text/plain": [
       "3"
      ]
     },
     "execution_count": 17,
     "metadata": {},
     "output_type": "execute_result"
    }
   ],
   "source": [
    "t.weekday()"
   ]
  },
  {
   "cell_type": "markdown",
   "metadata": {},
   "source": [
    "Подробнее про подобный формат времени [можно почитать тут.](https://ru.wikipedia.org/wiki/Unix-время) Кстати говоря, с таким форматом связана [проблема 2038 года.](https://ru.wikipedia.org/wiki/Проблема_2038_года) ~~Именно тогда может настать цифровой апокалипсис.~~"
   ]
  },
  {
   "cell_type": "code",
   "execution_count": 18,
   "metadata": {},
   "outputs": [],
   "source": [
    "memes['Year'] = memes.Timestamp.apply(lambda x: x.year)\n",
    "memes['Month'] = memes.Timestamp.apply(lambda x: x.month)\n",
    "memes['Day'] = memes.Timestamp.apply(lambda x: x.day)\n",
    "memes['Hour'] = memes.Timestamp.apply(lambda x: x.hour)\n",
    "memes['Weekday'] = memes.Timestamp.apply(lambda x: x.weekday())"
   ]
  },
  {
   "cell_type": "markdown",
   "metadata": {},
   "source": [
    "Также пригодится переменная, отвечающая за число дней, прошедших с момента добавления мема на сайт"
   ]
  },
  {
   "cell_type": "code",
   "execution_count": 19,
   "metadata": {},
   "outputs": [
    {
     "data": {
      "text/plain": [
       "0         13 days 11:28:37\n",
       "1         14 days 03:20:27\n",
       "2         14 days 03:37:21\n",
       "3         14 days 05:01:36\n",
       "4         12 days 02:51:18\n",
       "               ...        \n",
       "4201     659 days 09:01:35\n",
       "4202    3596 days 11:59:37\n",
       "4203    2231 days 23:06:51\n",
       "4204       6 days 11:46:38\n",
       "4205     575 days 23:04:51\n",
       "Name: Timestamp, Length: 4206, dtype: object"
      ]
     },
     "execution_count": 19,
     "metadata": {},
     "output_type": "execute_result"
    }
   ],
   "source": [
    "memes.Timestamp.max() - memes.Timestamp"
   ]
  },
  {
   "cell_type": "code",
   "execution_count": 20,
   "metadata": {},
   "outputs": [
    {
     "ename": "AttributeError",
     "evalue": "Can only use .dt accessor with datetimelike values",
     "output_type": "error",
     "traceback": [
      "\u001b[1;31m---------------------------------------------------------------------------\u001b[0m",
      "\u001b[1;31mAttributeError\u001b[0m                            Traceback (most recent call last)",
      "Cell \u001b[1;32mIn[20], line 1\u001b[0m\n\u001b[1;32m----> 1\u001b[0m \u001b[43m(\u001b[49m\u001b[43mmemes\u001b[49m\u001b[38;5;241;43m.\u001b[39;49m\u001b[43mTimestamp\u001b[49m\u001b[38;5;241;43m.\u001b[39;49m\u001b[43mmax\u001b[49m\u001b[43m(\u001b[49m\u001b[43m)\u001b[49m\u001b[43m \u001b[49m\u001b[38;5;241;43m-\u001b[39;49m\u001b[43m \u001b[49m\u001b[43mmemes\u001b[49m\u001b[38;5;241;43m.\u001b[39;49m\u001b[43mTimestamp\u001b[49m\u001b[43m)\u001b[49m\u001b[38;5;241;43m.\u001b[39;49m\u001b[43mdt\u001b[49m\u001b[38;5;241m.\u001b[39mdays\n",
      "File \u001b[1;32m~\\AppData\\Local\\Programs\\Python\\Python311\\Lib\\site-packages\\pandas\\core\\generic.py:5989\u001b[0m, in \u001b[0;36mNDFrame.__getattr__\u001b[1;34m(self, name)\u001b[0m\n\u001b[0;32m   5982\u001b[0m \u001b[38;5;28;01mif\u001b[39;00m (\n\u001b[0;32m   5983\u001b[0m     name \u001b[38;5;129;01mnot\u001b[39;00m \u001b[38;5;129;01min\u001b[39;00m \u001b[38;5;28mself\u001b[39m\u001b[38;5;241m.\u001b[39m_internal_names_set\n\u001b[0;32m   5984\u001b[0m     \u001b[38;5;129;01mand\u001b[39;00m name \u001b[38;5;129;01mnot\u001b[39;00m \u001b[38;5;129;01min\u001b[39;00m \u001b[38;5;28mself\u001b[39m\u001b[38;5;241m.\u001b[39m_metadata\n\u001b[0;32m   5985\u001b[0m     \u001b[38;5;129;01mand\u001b[39;00m name \u001b[38;5;129;01mnot\u001b[39;00m \u001b[38;5;129;01min\u001b[39;00m \u001b[38;5;28mself\u001b[39m\u001b[38;5;241m.\u001b[39m_accessors\n\u001b[0;32m   5986\u001b[0m     \u001b[38;5;129;01mand\u001b[39;00m \u001b[38;5;28mself\u001b[39m\u001b[38;5;241m.\u001b[39m_info_axis\u001b[38;5;241m.\u001b[39m_can_hold_identifiers_and_holds_name(name)\n\u001b[0;32m   5987\u001b[0m ):\n\u001b[0;32m   5988\u001b[0m     \u001b[38;5;28;01mreturn\u001b[39;00m \u001b[38;5;28mself\u001b[39m[name]\n\u001b[1;32m-> 5989\u001b[0m \u001b[38;5;28;01mreturn\u001b[39;00m \u001b[38;5;28;43mobject\u001b[39;49m\u001b[38;5;241;43m.\u001b[39;49m\u001b[38;5;21;43m__getattribute__\u001b[39;49m\u001b[43m(\u001b[49m\u001b[38;5;28;43mself\u001b[39;49m\u001b[43m,\u001b[49m\u001b[43m \u001b[49m\u001b[43mname\u001b[49m\u001b[43m)\u001b[49m\n",
      "File \u001b[1;32m~\\AppData\\Local\\Programs\\Python\\Python311\\Lib\\site-packages\\pandas\\core\\accessor.py:224\u001b[0m, in \u001b[0;36mCachedAccessor.__get__\u001b[1;34m(self, obj, cls)\u001b[0m\n\u001b[0;32m    221\u001b[0m \u001b[38;5;28;01mif\u001b[39;00m obj \u001b[38;5;129;01mis\u001b[39;00m \u001b[38;5;28;01mNone\u001b[39;00m:\n\u001b[0;32m    222\u001b[0m     \u001b[38;5;66;03m# we're accessing the attribute of the class, i.e., Dataset.geo\u001b[39;00m\n\u001b[0;32m    223\u001b[0m     \u001b[38;5;28;01mreturn\u001b[39;00m \u001b[38;5;28mself\u001b[39m\u001b[38;5;241m.\u001b[39m_accessor\n\u001b[1;32m--> 224\u001b[0m accessor_obj \u001b[38;5;241m=\u001b[39m \u001b[38;5;28;43mself\u001b[39;49m\u001b[38;5;241;43m.\u001b[39;49m\u001b[43m_accessor\u001b[49m\u001b[43m(\u001b[49m\u001b[43mobj\u001b[49m\u001b[43m)\u001b[49m\n\u001b[0;32m    225\u001b[0m \u001b[38;5;66;03m# Replace the property with the accessor object. Inspired by:\u001b[39;00m\n\u001b[0;32m    226\u001b[0m \u001b[38;5;66;03m# https://www.pydanny.com/cached-property.html\u001b[39;00m\n\u001b[0;32m    227\u001b[0m \u001b[38;5;66;03m# We need to use object.__setattr__ because we overwrite __setattr__ on\u001b[39;00m\n\u001b[0;32m    228\u001b[0m \u001b[38;5;66;03m# NDFrame\u001b[39;00m\n\u001b[0;32m    229\u001b[0m \u001b[38;5;28mobject\u001b[39m\u001b[38;5;241m.\u001b[39m\u001b[38;5;21m__setattr__\u001b[39m(obj, \u001b[38;5;28mself\u001b[39m\u001b[38;5;241m.\u001b[39m_name, accessor_obj)\n",
      "File \u001b[1;32m~\\AppData\\Local\\Programs\\Python\\Python311\\Lib\\site-packages\\pandas\\core\\indexes\\accessors.py:580\u001b[0m, in \u001b[0;36mCombinedDatetimelikeProperties.__new__\u001b[1;34m(cls, data)\u001b[0m\n\u001b[0;32m    577\u001b[0m \u001b[38;5;28;01melif\u001b[39;00m is_period_dtype(data\u001b[38;5;241m.\u001b[39mdtype):\n\u001b[0;32m    578\u001b[0m     \u001b[38;5;28;01mreturn\u001b[39;00m PeriodProperties(data, orig)\n\u001b[1;32m--> 580\u001b[0m \u001b[38;5;28;01mraise\u001b[39;00m \u001b[38;5;167;01mAttributeError\u001b[39;00m(\u001b[38;5;124m\"\u001b[39m\u001b[38;5;124mCan only use .dt accessor with datetimelike values\u001b[39m\u001b[38;5;124m\"\u001b[39m)\n",
      "\u001b[1;31mAttributeError\u001b[0m: Can only use .dt accessor with datetimelike values"
     ]
    }
   ],
   "source": [
    "(memes.Timestamp.max() - memes.Timestamp).dt.days"
   ]
  },
  {
   "cell_type": "code",
   "execution_count": 21,
   "metadata": {},
   "outputs": [
    {
     "data": {
      "text/plain": [
       "0         323.476944\n",
       "1         339.340833\n",
       "2         339.622500\n",
       "3         341.026667\n",
       "4         290.855000\n",
       "            ...     \n",
       "4201    15825.026389\n",
       "4202    86315.993611\n",
       "4203    53567.114167\n",
       "4204      155.777222\n",
       "4205    13823.080833\n",
       "Name: Timestamp, Length: 4206, dtype: float64"
      ]
     },
     "execution_count": 21,
     "metadata": {},
     "output_type": "execute_result"
    }
   ],
   "source": [
    "(memes.Timestamp.max() - memes.Timestamp)/np.timedelta64(1, 'h')"
   ]
  },
  {
   "cell_type": "code",
   "execution_count": 22,
   "metadata": {},
   "outputs": [],
   "source": [
    "memes['days_from_creation'] = (memes.Timestamp.max() - memes.Timestamp)/np.timedelta64(1, 'D')"
   ]
  },
  {
   "cell_type": "markdown",
   "metadata": {},
   "source": [
    "А теперь для наших созданных переменных построим несколько гистограмм"
   ]
  },
  {
   "cell_type": "code",
   "execution_count": 23,
   "metadata": {},
   "outputs": [
    {
     "data": {
      "image/png": "[encoded data removed]",
      "text/plain": [
       "<Figure size 1200x600 with 4 Axes>"
      ]
     },
     "metadata": {},
     "output_type": "display_data"
    }
   ],
   "source": [
    "times = ['Month', 'Day', 'Hour', 'Weekday']\n",
    "memes[times].hist(figsize=(12,6));"
   ]
  },
  {
   "cell_type": "markdown",
   "metadata": {},
   "source": [
    "Более сложная картинка с разным числом бинов. "
   ]
  },
  {
   "cell_type": "code",
   "execution_count": 24,
   "metadata": {},
   "outputs": [
    {
     "data": {
      "image/png": "[encoded data removed]",
      "text/plain": [
       "<Figure size 1500x1000 with 4 Axes>"
      ]
     },
     "metadata": {},
     "output_type": "display_data"
    }
   ],
   "source": [
    "index = 0\n",
    "fig, ax = plt.subplots(2, 2, figsize=(15,10))\n",
    "\n",
    "bins = [12, 31, 24, 7]\n",
    "for i in range(2):\n",
    "    for j in range(2):\n",
    "        ax[i,j].hist(memes[times[index]], bins = bins[index])\n",
    "        ax[i, j].set_title('Histogram of {}'.format(times[index]))\n",
    "        index += 1\n",
    "        \n",
    "fig.subplots_adjust(hspace = 0.2) "
   ]
  },
  {
   "cell_type": "markdown",
   "metadata": {},
   "source": [
    "__Интересные особенности:__\n",
    "\n",
    "- День ничего необычного не принес, распределено достаточно равномерно\n",
    "- Гистограмма часа достаточно показательная - в ночной период активность значительно снижается, а затем растет, достигая пика днём\n",
    "- По дням недели есть заметное снижения на выходных"
   ]
  },
  {
   "cell_type": "code",
   "execution_count": 25,
   "metadata": {},
   "outputs": [
    {
     "data": {
      "image/png": "[encoded data removed]",
      "text/plain": [
       "<Figure size 640x480 with 1 Axes>"
      ]
     },
     "metadata": {},
     "output_type": "display_data"
    }
   ],
   "source": [
    "memes.Year.value_counts().sort_index().plot(kind='bar');\n",
    "plt.title(\"Histogram of year\");"
   ]
  },
  {
   "cell_type": "markdown",
   "metadata": {},
   "source": [
    "Посмотрим также на вторую переменную, связанную с годом - __год появления первоисточника `origin_year`__"
   ]
  },
  {
   "cell_type": "code",
   "execution_count": 26,
   "metadata": {},
   "outputs": [
    {
     "data": {
      "text/plain": [
       "origin_year\n",
       "Unknown    349\n",
       "2011       329\n",
       "2016       310\n",
       "2010       297\n",
       "2017       281\n",
       "2013       259\n",
       "2019       258\n",
       "2012       236\n",
       "2014       233\n",
       "2018       229\n",
       "Name: count, dtype: int64"
      ]
     },
     "execution_count": 26,
     "metadata": {},
     "output_type": "execute_result"
    }
   ],
   "source": [
    "memes.origin_year.value_counts()[:10]"
   ]
  },
  {
   "cell_type": "code",
   "execution_count": 27,
   "metadata": {},
   "outputs": [
    {
     "data": {
      "text/plain": [
       "origin_year\n",
       "1975    1\n",
       "1797    1\n",
       "1926    1\n",
       "1908    1\n",
       "1935    1\n",
       "1964    1\n",
       "1973    1\n",
       "1792    1\n",
       "1927    1\n",
       "1890    1\n",
       "Name: count, dtype: int64"
      ]
     },
     "execution_count": 27,
     "metadata": {},
     "output_type": "execute_result"
    }
   ],
   "source": [
    "memes.origin_year.value_counts()[-10:]"
   ]
  },
  {
   "cell_type": "code",
   "execution_count": 28,
   "metadata": {},
   "outputs": [
    {
     "data": {
      "text/plain": [
       "349"
      ]
     },
     "execution_count": 28,
     "metadata": {},
     "output_type": "execute_result"
    }
   ],
   "source": [
    "memes.loc[memes.origin_year == 'Unknown', 'origin_year'] = None\n",
    "memes.origin_year.isnull().sum()"
   ]
  },
  {
   "cell_type": "code",
   "execution_count": 29,
   "metadata": {},
   "outputs": [],
   "source": [
    "usl = memes.origin_year.apply(lambda x: str(x).isdigit())"
   ]
  },
  {
   "cell_type": "code",
   "execution_count": 30,
   "metadata": {},
   "outputs": [],
   "source": [
    "memes.loc[~usl,'origin_year'] = 0"
   ]
  },
  {
   "cell_type": "code",
   "execution_count": 31,
   "metadata": {},
   "outputs": [],
   "source": [
    "memes.origin_year = memes.origin_year.astype(int)"
   ]
  },
  {
   "cell_type": "code",
   "execution_count": 32,
   "metadata": {},
   "outputs": [
    {
     "data": {
      "image/png": "[encoded data removed]",
      "text/plain": [
       "<Figure size 640x480 with 1 Axes>"
      ]
     },
     "metadata": {},
     "output_type": "display_data"
    }
   ],
   "source": [
    "memes.origin_year[\n",
    "    (memes.origin_year>2000)&(memes.origin_year<=2020)\n",
    "].hist(bins=20);"
   ]
  },
  {
   "cell_type": "markdown",
   "metadata": {},
   "source": [
    "Можем посмотреть на наиболее \"исторические\" мемы, берущие своё начало, например, до 1500 года"
   ]
  },
  {
   "cell_type": "code",
   "execution_count": 33,
   "metadata": {},
   "outputs": [
    {
     "name": "stdout",
     "output_type": "stream",
     "text": [
      "Name: Pascal's Triangle\n",
      "Year: 1100\n",
      "About:\n",
      "NOTE: This Entry was related to the 2013 April Fools joke. For more information, please check out the KYMdb Offline Crisis Response Initiative.\n",
      "==================================================================\n",
      "\n",
      "Name: Chocolate\n",
      "Year: 1100\n",
      "About:\n",
      "Chocolate is a food item known for its sweet taste, its tendency to melt in a hot environment and its all-round delicious nature. Chocolate is typically produced using cocoa solids, sugar and other fats. Milk chocolate, as the name would suggest, is created using milk and is the most common type of chocolate available. In modern culture, chocolate is often lauded as being an incredible food in similar vein to Bacon (which leads to unexpected results when you combine the two)\n",
      "==================================================================\n",
      "\n",
      "Name: V Sign\n",
      "Year: 1415\n",
      "About:\n",
      "NOTE: This Entry was related to the 2013 April Fools joke. For more information, please check out the KYMdb Offline Crisis Response Initiative.\n",
      "==================================================================\n",
      "\n",
      "Name: The Last Supper Parodies\n",
      "Year: 1495\n",
      "About:\n",
      "nan\n",
      "==================================================================\n",
      "\n",
      "Name: Dented Guitar\n",
      "Year: 1111\n",
      "About:\n",
      "1 for the money\n",
      "==================================================================\n",
      "\n"
     ]
    }
   ],
   "source": [
    "ancient = memes[ (memes.origin_year < 1500) & (memes.origin_year != 0) ]\n",
    "\n",
    "for i in ancient.index.tolist():\n",
    "    print(\"Name: {}\".format(ancient.loc[i, \"name\"]))\n",
    "    print(\"Year: {}\".format(ancient.loc[i, \"origin_year\"]))\n",
    "    print(\"About:\\n{}\".format(ancient.loc[i, \"about\"]))\n",
    "    print(\"==================================================================\\n\")"
   ]
  },
  {
   "cell_type": "markdown",
   "metadata": {},
   "source": [
    "## 3. Непрерывные переменные\n",
    "\n",
    "> В этой части тетрадки мы будем работать с непрерывными переменными.\n",
    "\n",
    "Посмотрим на __число просмотров.__"
   ]
  },
  {
   "cell_type": "code",
   "execution_count": 34,
   "metadata": {},
   "outputs": [
    {
     "data": {
      "image/png": "[encoded data removed]",
      "text/plain": [
       "<Figure size 640x480 with 1 Axes>"
      ]
     },
     "metadata": {},
     "output_type": "display_data"
    }
   ],
   "source": [
    "memes.views.hist(bins=25, log=True)\n",
    "\n",
    "plt.xlabel('Число просмотров')\n",
    "plt.ylabel('Количество мемов')\n",
    "plt.title(\"Hist of Views\");"
   ]
  },
  {
   "cell_type": "markdown",
   "metadata": {},
   "source": [
    "Ожидаемо, большинство мемов не пользуются популярностью, и число их просмотров сосредоточено рядом с нулём. В то же время, у нас есть небольшое число очень популярных мемов, которые собирают десятки миллионов просмотров. \n",
    "\n",
    "В результате, мы имеем распределение с **тяжелым правым хвостом**. Чтобы познакомиться с распределением чуть получше, мы можем **прологарифмировать** значения переменной:"
   ]
  },
  {
   "cell_type": "code",
   "execution_count": 35,
   "metadata": {},
   "outputs": [
    {
     "data": {
      "image/png": "[encoded data removed]",
      "text/plain": [
       "<Figure size 640x480 with 1 Axes>"
      ]
     },
     "metadata": {},
     "output_type": "display_data"
    }
   ],
   "source": [
    "memes.views.apply(lambda w: np.log(w + 1)).hist(bins=25);"
   ]
  },
  {
   "cell_type": "markdown",
   "metadata": {},
   "source": [
    "Выясним, какой мем самый популярный. Метрикой популярности, в данном случае, будет оценка среднего числа просмотров в день. Для этого разделим фактическое число просмотров на число дней, прошедших со дня публикации."
   ]
  },
  {
   "cell_type": "code",
   "execution_count": 36,
   "metadata": {},
   "outputs": [
    {
     "data": {
      "text/plain": [
       "331509.73355084285"
      ]
     },
     "execution_count": 36,
     "metadata": {},
     "output_type": "execute_result"
    }
   ],
   "source": [
    "memes['average_views'] = memes.views/(memes.days_from_creation + 1)\n",
    "memes['average_views'].max()"
   ]
  },
  {
   "cell_type": "code",
   "execution_count": 37,
   "metadata": {},
   "outputs": [
    {
     "data": {
      "text/plain": [
       "997    2.448125\n",
       "Name: days_from_creation, dtype: float64"
      ]
     },
     "execution_count": 37,
     "metadata": {},
     "output_type": "execute_result"
    }
   ],
   "source": [
    "memes[memes['average_views']  == memes['average_views'].max()]['days_from_creation']"
   ]
  },
  {
   "cell_type": "markdown",
   "metadata": {},
   "source": [
    "На ноль делить нельзя. "
   ]
  },
  {
   "cell_type": "code",
   "execution_count": 38,
   "metadata": {},
   "outputs": [
    {
     "data": {
      "image/png": "[encoded data removed]",
      "text/plain": [
       "<Figure size 640x480 with 1 Axes>"
      ]
     },
     "metadata": {},
     "output_type": "display_data"
    }
   ],
   "source": [
    "memes['average_views'].hist(bins=25)\n",
    "plt.title(\"Hist of average views\");"
   ]
  },
  {
   "cell_type": "code",
   "execution_count": 39,
   "metadata": {},
   "outputs": [
    {
     "data": {
      "image/png": "[encoded data removed]",
      "text/plain": [
       "<Figure size 640x480 with 1 Axes>"
      ]
     },
     "metadata": {},
     "output_type": "display_data"
    }
   ],
   "source": [
    "plt.hist(memes['average_views'].apply(np.log), bins=50)\n",
    "plt.title(\"Hist of log average views\");"
   ]
  },
  {
   "cell_type": "markdown",
   "metadata": {},
   "source": [
    "Распределение числа просмотров за день оказывается мультимодальным (у него два локальных максимума, то есть две моды). "
   ]
  },
  {
   "cell_type": "markdown",
   "metadata": {},
   "source": [
    "Посмотрим на __комментарии.__"
   ]
  },
  {
   "cell_type": "code",
   "execution_count": 40,
   "metadata": {},
   "outputs": [
    {
     "data": {
      "image/png": "[encoded data removed]",
      "text/plain": [
       "<Figure size 640x480 with 1 Axes>"
      ]
     },
     "metadata": {},
     "output_type": "display_data"
    },
    {
     "data": {
      "image/png": "[encoded data removed]",
      "text/plain": [
       "<Figure size 640x480 with 1 Axes>"
      ]
     },
     "metadata": {},
     "output_type": "display_data"
    }
   ],
   "source": [
    "memes.comments.hist(bins=20)\n",
    "plt.title(\"Hist of comments\")\n",
    "plt.show()\n",
    "\n",
    "np.log(memes.comments + 1).hist(bins=20)\n",
    "plt.title(\"Hist of log comments\")\n",
    "plt.show()"
   ]
  },
  {
   "cell_type": "markdown",
   "metadata": {},
   "source": [
    "Посмотрим на самые комментируемые."
   ]
  },
  {
   "cell_type": "code",
   "execution_count": 41,
   "metadata": {},
   "outputs": [],
   "source": [
    "memes['average_comments'] = memes.comments/(memes.days_from_creation + 1)"
   ]
  },
  {
   "cell_type": "code",
   "execution_count": 42,
   "metadata": {},
   "outputs": [
    {
     "name": "stdout",
     "output_type": "stream",
     "text": [
      "Meme name: \n",
      "Miley Cyrus\n",
      "Average comments (per day) 72\n",
      "==============\n",
      "\n",
      "Meme name: \n",
      "McDonald’s \"Happy\" Mascot\n",
      "Average comments (per day) 71\n",
      "==============\n",
      "\n",
      "Meme name: \n",
      "Hero Cat\n",
      "Average comments (per day) 50\n",
      "==============\n",
      "\n",
      "Meme name: \n",
      "Colonel Meow\n",
      "Average comments (per day) 47\n",
      "==============\n",
      "\n",
      "Meme name: \n",
      "Bob the Builder\n",
      "Average comments (per day) 47\n",
      "==============\n",
      "\n",
      "Meme name: \n",
      "Mike Pence\n",
      "Average comments (per day) 43\n",
      "==============\n",
      "\n",
      "Meme name: \n",
      "Desmond Napoles\n",
      "Average comments (per day) 35\n",
      "==============\n",
      "\n"
     ]
    }
   ],
   "source": [
    "popular = memes.sort_values(by='average_comments', ascending=False)\n",
    "\n",
    "for i in popular.index.tolist()[:7]:\n",
    "    print('Meme name: ')\n",
    "    print(popular.loc[i,'name'])\n",
    "    print(\"Average comments (per day) {}\".format(round(popular.loc[i,'average_comments'])))\n",
    "    print('==============\\n')"
   ]
  },
  {
   "cell_type": "code",
   "execution_count": 43,
   "metadata": {},
   "outputs": [
    {
     "data": {
      "text/plain": [
       "name                   0.000000\n",
       "status                 0.000000\n",
       "type                  57.536852\n",
       "origin_year            0.000000\n",
       "origin_place           0.071327\n",
       "date_added             0.000000\n",
       "views                  0.000000\n",
       "videos                 0.000000\n",
       "photos                 0.000000\n",
       "comments               0.000000\n",
       "tags                   0.023776\n",
       "about                  9.700428\n",
       "origin                39.990490\n",
       "other_text            16.595340\n",
       "Timestamp              0.000000\n",
       "Year                   0.000000\n",
       "Month                  0.000000\n",
       "Day                    0.000000\n",
       "Hour                   0.000000\n",
       "Weekday                0.000000\n",
       "days_from_creation     0.000000\n",
       "average_views          0.000000\n",
       "average_comments       0.000000\n",
       "dtype: float64"
      ]
     },
     "execution_count": 43,
     "metadata": {},
     "output_type": "execute_result"
    }
   ],
   "source": [
    "100*memes.isnull().sum()/memes.shape[0]"
   ]
  },
  {
   "cell_type": "markdown",
   "metadata": {},
   "source": [
    "## 4. Категориальные и тестовые переменные\n",
    "\n",
    "> В этой части тетрадки мы будем работать с категориальными переменными и текстовыми переменными.\n",
    "\n",
    "Посмотрим на описательные статистики по нашим категориальным переменным."
   ]
  },
  {
   "cell_type": "code",
   "execution_count": 44,
   "metadata": {},
   "outputs": [
    {
     "data": {
      "text/html": [
       "<div>\n",
       "<style scoped>\n",
       "    .dataframe tbody tr th:only-of-type {\n",
       "        vertical-align: middle;\n",
       "    }\n",
       "\n",
       "    .dataframe tbody tr th {\n",
       "        vertical-align: top;\n",
       "    }\n",
       "\n",
       "    .dataframe thead th {\n",
       "        text-align: right;\n",
       "    }\n",
       "</style>\n",
       "<table border=\"1\" class=\"dataframe\">\n",
       "  <thead>\n",
       "    <tr style=\"text-align: right;\">\n",
       "      <th></th>\n",
       "      <th>status</th>\n",
       "      <th>type</th>\n",
       "      <th>origin_place</th>\n",
       "    </tr>\n",
       "  </thead>\n",
       "  <tbody>\n",
       "    <tr>\n",
       "      <th>count</th>\n",
       "      <td>4206</td>\n",
       "      <td>1786</td>\n",
       "      <td>4203</td>\n",
       "    </tr>\n",
       "    <tr>\n",
       "      <th>unique</th>\n",
       "      <td>3</td>\n",
       "      <td>98</td>\n",
       "      <td>1884</td>\n",
       "    </tr>\n",
       "    <tr>\n",
       "      <th>top</th>\n",
       "      <td>Submission</td>\n",
       "      <td>Exploitable</td>\n",
       "      <td>Unknown</td>\n",
       "    </tr>\n",
       "    <tr>\n",
       "      <th>freq</th>\n",
       "      <td>2482</td>\n",
       "      <td>152</td>\n",
       "      <td>535</td>\n",
       "    </tr>\n",
       "  </tbody>\n",
       "</table>\n",
       "</div>"
      ],
      "text/plain": [
       "            status         type origin_place\n",
       "count         4206         1786         4203\n",
       "unique           3           98         1884\n",
       "top     Submission  Exploitable      Unknown\n",
       "freq          2482          152          535"
      ]
     },
     "execution_count": 44,
     "metadata": {},
     "output_type": "execute_result"
    }
   ],
   "source": [
    "memes[['status', 'type', 'origin_place']].describe()"
   ]
  },
  {
   "cell_type": "markdown",
   "metadata": {},
   "source": [
    "Для каждого мема есть три состояния:\n",
    "\n",
    "- Submission - добавлен недавно или не еще не стал \"признанным\" в сообществе\n",
    "- Deadpool - если умер и не используется\n",
    "- Confirmed - активно используется и получил статус \"подтвержденного\" мема"
   ]
  },
  {
   "cell_type": "code",
   "execution_count": 45,
   "metadata": {},
   "outputs": [
    {
     "data": {
      "image/png": "[encoded data removed]",
      "text/plain": [
       "<Figure size 640x480 with 1 Axes>"
      ]
     },
     "metadata": {},
     "output_type": "display_data"
    }
   ],
   "source": [
    "memes.status.value_counts().plot(kind='barh')\n",
    "plt.title(\"Hist of Status\")\n",
    "plt.show()"
   ]
  },
  {
   "cell_type": "markdown",
   "metadata": {},
   "source": [
    "Алгоритмы умеют учиться на числах. Надо заменить все категории на числа. Вопрос в том, как бы это лучше сделать. Наша переменная принимает три значения. Возникает соблазн заменить  все Submission на 1, Deadpool на 2, а Confirmed на 3. \n",
    "\n",
    "Это неправильный подход. Если так сделать, то некоторые алгоритмы могут подумать, что третий тип самый лучший, а первый самый плохой. Очень большой вопрос, почему мы определили порядок именно так. Это запутает алгоритм. \n",
    "\n",
    "Чтобы не путать алгоритм, поступают следующим образом: делают из категориальной переменной много __дамми-переменных__, то есть переменных, которые принимают значение либо $1$ либо $0$. Такая процедура называется __one hot encoding.__"
   ]
  },
  {
   "cell_type": "code",
   "execution_count": 46,
   "metadata": {},
   "outputs": [
    {
     "data": {
      "text/html": [
       "<div>\n",
       "<style scoped>\n",
       "    .dataframe tbody tr th:only-of-type {\n",
       "        vertical-align: middle;\n",
       "    }\n",
       "\n",
       "    .dataframe tbody tr th {\n",
       "        vertical-align: top;\n",
       "    }\n",
       "\n",
       "    .dataframe thead th {\n",
       "        text-align: right;\n",
       "    }\n",
       "</style>\n",
       "<table border=\"1\" class=\"dataframe\">\n",
       "  <thead>\n",
       "    <tr style=\"text-align: right;\">\n",
       "      <th></th>\n",
       "      <th>Deadpool</th>\n",
       "      <th>Submission</th>\n",
       "    </tr>\n",
       "  </thead>\n",
       "  <tbody>\n",
       "    <tr>\n",
       "      <th>0</th>\n",
       "      <td>False</td>\n",
       "      <td>True</td>\n",
       "    </tr>\n",
       "    <tr>\n",
       "      <th>1</th>\n",
       "      <td>False</td>\n",
       "      <td>True</td>\n",
       "    </tr>\n",
       "    <tr>\n",
       "      <th>2</th>\n",
       "      <td>False</td>\n",
       "      <td>True</td>\n",
       "    </tr>\n",
       "    <tr>\n",
       "      <th>3</th>\n",
       "      <td>False</td>\n",
       "      <td>True</td>\n",
       "    </tr>\n",
       "    <tr>\n",
       "      <th>4</th>\n",
       "      <td>False</td>\n",
       "      <td>True</td>\n",
       "    </tr>\n",
       "  </tbody>\n",
       "</table>\n",
       "</div>"
      ],
      "text/plain": [
       "   Deadpool  Submission\n",
       "0     False        True\n",
       "1     False        True\n",
       "2     False        True\n",
       "3     False        True\n",
       "4     False        True"
      ]
     },
     "execution_count": 46,
     "metadata": {},
     "output_type": "execute_result"
    }
   ],
   "source": [
    "pd.get_dummies(memes['status'], drop_first=True).head()"
   ]
  },
  {
   "cell_type": "markdown",
   "metadata": {},
   "source": [
    "Если мем относится к типу Confirmed, то у него в соответствующем столбце будет стоять единичка, а в остальных нули. Если категорий внутри переменной много, то мы переработаем её в слишком большое число столбцов. Это приводит к очень большому пространству признаков и проклятью размерности.\n",
    "\n",
    "В оставшихся двух переменных есть очень много вариантов категорий. Давайте посмотрим сколько и как они распределены. "
   ]
  },
  {
   "cell_type": "code",
   "execution_count": 47,
   "metadata": {},
   "outputs": [
    {
     "data": {
      "text/plain": [
       "type\n",
       "Exploitable    152\n",
       "Character      121\n",
       "Catchphrase    112\n",
       "Image Macro    111\n",
       "Controversy     95\n",
       "              ... \n",
       "Podcast          1\n",
       "Scientist        1\n",
       "Fan Labor        1\n",
       "Model            1\n",
       "Flash Mob        1\n",
       "Name: count, Length: 98, dtype: int64"
      ]
     },
     "execution_count": 47,
     "metadata": {},
     "output_type": "execute_result"
    }
   ],
   "source": [
    "memes.type.value_counts()"
   ]
  },
  {
   "cell_type": "markdown",
   "metadata": {},
   "source": [
    "Заменим все маленькие категории на `another`."
   ]
  },
  {
   "cell_type": "code",
   "execution_count": 48,
   "metadata": {},
   "outputs": [
    {
     "data": {
      "text/plain": [
       "{'Anime',\n",
       " 'Catchphrase',\n",
       " 'Character',\n",
       " 'Controversy',\n",
       " 'Copypasta',\n",
       " 'Exploitable',\n",
       " 'Image Macro',\n",
       " 'Parody',\n",
       " 'Participatory Media',\n",
       " 'Pop Culture Reference',\n",
       " 'Reaction',\n",
       " 'Remix',\n",
       " 'Slang',\n",
       " 'Song',\n",
       " 'Video Game',\n",
       " 'Viral Video'}"
      ]
     },
     "execution_count": 48,
     "metadata": {},
     "output_type": "execute_result"
    }
   ],
   "source": [
    "cnt = memes.type.value_counts()\n",
    "big_category = set(cnt[cnt >= 30].index)\n",
    "big_category"
   ]
  },
  {
   "cell_type": "code",
   "execution_count": 49,
   "metadata": {},
   "outputs": [],
   "source": [
    "memes.type = memes.type.apply(lambda w: w if w in big_category else 'another')"
   ]
  },
  {
   "cell_type": "code",
   "execution_count": 50,
   "metadata": {},
   "outputs": [
    {
     "data": {
      "image/png": "[encoded data removed]",
      "text/plain": [
       "<Figure size 640x480 with 1 Axes>"
      ]
     },
     "metadata": {},
     "output_type": "display_data"
    }
   ],
   "source": [
    "memes.type.value_counts().plot(kind='barh');"
   ]
  },
  {
   "cell_type": "markdown",
   "metadata": {},
   "source": [
    "По аналогии поступим с местом происхождения мемам."
   ]
  },
  {
   "cell_type": "code",
   "execution_count": null,
   "metadata": {},
   "outputs": [],
   "source": [
    "memes.origin_place.value_counts()"
   ]
  },
  {
   "cell_type": "code",
   "execution_count": null,
   "metadata": {},
   "outputs": [],
   "source": [
    "cnt = memes.origin_place.value_counts()\n",
    "big_category = set(cnt[cnt >= 30].index)\n",
    "\n",
    "memes['origin_place'] = memes.origin_place.apply(lambda w: w if w in big_category else 'another')\n",
    "memes.origin_place.value_counts().plot(kind='barh');"
   ]
  },
  {
   "cell_type": "markdown",
   "metadata": {},
   "source": [
    "Остались только текстовые переменные. На их основе тоже можно создать новые переменные. Например, посчитать длинну текстов или посмотреть входят ли в них какие-то специфические слова. В машинном обучении есть отдельный раздел, который посвящён работе с текстами. "
   ]
  },
  {
   "cell_type": "code",
   "execution_count": null,
   "metadata": {},
   "outputs": [],
   "source": [
    "memes[['tags', 'about', 'origin', 'other_text']]"
   ]
  },
  {
   "cell_type": "code",
   "execution_count": null,
   "metadata": {},
   "outputs": [],
   "source": [
    "memes['tags_len'] = memes.tags.str.len()\n",
    "memes['tags_len'].hist(bins=25);"
   ]
  },
  {
   "cell_type": "markdown",
   "metadata": {},
   "source": [
    "Установим имя в качестве индекса и удалим все лишние колонки."
   ]
  },
  {
   "cell_type": "code",
   "execution_count": null,
   "metadata": {
    "scrolled": true
   },
   "outputs": [],
   "source": [
    "memes.set_index('name').loc['Wet Kylo Ren']"
   ]
  },
  {
   "cell_type": "code",
   "execution_count": null,
   "metadata": {},
   "outputs": [],
   "source": [
    "memes.set_index('name', inplace=True)\n",
    "\n",
    "memes.drop(['tags', 'about', 'origin', 'other_text',\n",
    "           'date_added', 'Timestamp'], axis=1, inplace=True)"
   ]
  },
  {
   "cell_type": "markdown",
   "metadata": {},
   "source": [
    "Посмотрим на число пропусков."
   ]
  },
  {
   "cell_type": "code",
   "execution_count": null,
   "metadata": {},
   "outputs": [],
   "source": [
    "memes.isnull().sum()"
   ]
  },
  {
   "cell_type": "markdown",
   "metadata": {},
   "source": [
    "Есть один пропуск в длине тэгов. Заполним его нулём."
   ]
  },
  {
   "cell_type": "code",
   "execution_count": null,
   "metadata": {},
   "outputs": [],
   "source": [
    "memes.fillna(0, inplace=True) # заполним нулями"
   ]
  },
  {
   "cell_type": "code",
   "execution_count": null,
   "metadata": {},
   "outputs": [],
   "source": [
    "memes.shape"
   ]
  },
  {
   "cell_type": "code",
   "execution_count": null,
   "metadata": {},
   "outputs": [],
   "source": [
    "memes.to_csv('memes_prepare.csv', sep='\\t')"
   ]
  },
  {
   "cell_type": "markdown",
   "metadata": {},
   "source": [
    "Посмотрим, что произойдёт с данными, если мы применим ко всем категориальным переменным one hot encoding. "
   ]
  },
  {
   "cell_type": "code",
   "execution_count": null,
   "metadata": {},
   "outputs": [],
   "source": [
    "memes.dtypes"
   ]
  },
  {
   "cell_type": "code",
   "execution_count": null,
   "metadata": {},
   "outputs": [],
   "source": [
    "memes_dummy = pd.get_dummies(memes)\n",
    "memes_dummy.shape"
   ]
  },
  {
   "cell_type": "code",
   "execution_count": null,
   "metadata": {},
   "outputs": [],
   "source": [
    "memes_dummy.head()"
   ]
  },
  {
   "cell_type": "markdown",
   "metadata": {},
   "source": [
    "---\n",
    "\n"
   ]
  },
  {
   "cell_type": "markdown",
   "metadata": {},
   "source": [
    "## 5. Больше графиков богу графиков\n",
    "\n",
    "> Предположим, что в качестве целевой переменной (её мы бы хотели предсказывать) нас интересует среднее число просмотров мема. Давайте изучим эту переменную более подробно. \n",
    "\n",
    "Посмотрим как она взаимосвязана со статусом мема."
   ]
  },
  {
   "cell_type": "code",
   "execution_count": null,
   "metadata": {},
   "outputs": [],
   "source": [
    "plt.figure(figsize=(10, 5))\n",
    "sns.boxplot(np.log(memes.average_views), memes.status)\n",
    "plt.title(\"Log average views\")\n",
    "plt.show()"
   ]
  },
  {
   "cell_type": "markdown",
   "metadata": {},
   "source": [
    "Посмотрим как число просмотров ведёт себя в зависимости от часа добавления мема."
   ]
  },
  {
   "cell_type": "code",
   "execution_count": null,
   "metadata": {},
   "outputs": [],
   "source": [
    "memes['log_average_views'] = np.log(memes.average_views)"
   ]
  },
  {
   "cell_type": "code",
   "execution_count": null,
   "metadata": {},
   "outputs": [],
   "source": [
    "memes.boxplot(column='log_average_views', by='Hour', figsize=(10, 6))\n",
    "plt.show()"
   ]
  },
  {
   "cell_type": "markdown",
   "metadata": {},
   "source": [
    "Как ведёт себя среднее число просмотров в зависимости от дня недели, когда был добавлен мем. "
   ]
  },
  {
   "cell_type": "code",
   "execution_count": null,
   "metadata": {},
   "outputs": [],
   "source": [
    "memes.boxplot(column='log_average_views', by='Weekday', figsize=(10, 6))\n",
    "plt.show()"
   ]
  },
  {
   "cell_type": "code",
   "execution_count": null,
   "metadata": {},
   "outputs": [],
   "source": [
    "plt.figure(figsize=(10, 7))\n",
    "sns.violinplot(x='Weekday', y='log_average_views', data=memes, inner=\"quartile\")\n",
    "plt.title(\"Violinplot\")\n",
    "plt.show()"
   ]
  },
  {
   "cell_type": "markdown",
   "metadata": {},
   "source": [
    "Добавим дополнительное разбиение по статутсу мема. "
   ]
  },
  {
   "cell_type": "code",
   "execution_count": null,
   "metadata": {},
   "outputs": [],
   "source": [
    "plt.figure(figsize=(10, 7))\n",
    "\n",
    "memes['is_confirmed'] = memes.status=='Confirmed'\n",
    "\n",
    "sns.violinplot(x=\"Weekday\", \n",
    "                   y=\"log_average_views\", \n",
    "                   hue='is_confirmed', \n",
    "                   data=memes, \n",
    "                   split=True, \n",
    "                   palette='Set1', \n",
    "                   inner='quartile')\n",
    "plt.show()"
   ]
  },
  {
   "cell_type": "markdown",
   "metadata": {},
   "source": [
    "Посмотрим на корреляции между переменными внутри данных. "
   ]
  },
  {
   "cell_type": "code",
   "execution_count": null,
   "metadata": {},
   "outputs": [],
   "source": [
    "plt.subplots(figsize=(12, 12))\n",
    "\n",
    "sns.heatmap(memes.corr( ), square=True,\n",
    "              annot=True, fmt=\".1f\", linewidths=0.1, cmap=\"RdBu\");"
   ]
  },
  {
   "cell_type": "code",
   "execution_count": null,
   "metadata": {},
   "outputs": [],
   "source": [
    "plt.figure(figsize=(10, 10))\n",
    "plt.scatter(np.log(memes.average_comments), np.log(memes.average_views))\n",
    "plt.title(\"Average comments vs Average views\")\n",
    "plt.ylabel(\"Log average views\")\n",
    "plt.xlabel(\"Log average comments\")\n",
    "plt.show()"
   ]
  },
  {
   "cell_type": "code",
   "execution_count": null,
   "metadata": {},
   "outputs": [],
   "source": [
    "sns.pairplot(\n",
    "    memes, \n",
    "    vars=['log_average_views', 'days_from_creation'],\n",
    "    hue='is_confirmed'\n",
    ")"
   ]
  },
  {
   "cell_type": "markdown",
   "metadata": {},
   "source": [
    "Если мем оказался подтверждённым, происходит качественный сдвиг в числе просмотров. "
   ]
  },
  {
   "cell_type": "markdown",
   "metadata": {},
   "source": [
    "![](http://orig07.deviantart.net/3e62/f/2015/267/4/1/meme_team_logo_png_smol_by_kuiwi-d9ass0h.png)"
   ]
  },
  {
   "cell_type": "markdown",
   "metadata": {},
   "source": [
    " "
   ]
  }
 ],
 "metadata": {
  "anaconda-cloud": {},
  "kernelspec": {
   "display_name": "Python 3 (ipykernel)",
   "language": "python",
   "name": "python3"
  },
  "language_info": {
   "codemirror_mode": {
    "name": "ipython",
    "version": 3
   },
   "file_extension": ".py",
   "mimetype": "text/x-python",
   "name": "python",
   "nbconvert_exporter": "python",
   "pygments_lexer": "ipython3",
   "version": "3.11.4"
  },
  "varInspector": {
   "cols": {
    "lenName": 16,
    "lenType": 16,
    "lenVar": 40
   },
   "kernels_config": {
    "python": {
     "delete_cmd_postfix": "",
     "delete_cmd_prefix": "del ",
     "library": "var_list.py",
     "varRefreshCmd": "print(var_dic_list())"
    },
    "r": {
     "delete_cmd_postfix": ") ",
     "delete_cmd_prefix": "rm(",
     "library": "var_list.r",
     "varRefreshCmd": "cat(var_dic_list()) "
    }
   },
   "types_to_exclude": [
    "module",
    "function",
    "builtin_function_or_method",
    "instance",
    "_Feature"
   ],
   "window_display": false
  }
 },
 "nbformat": 4,
 "nbformat_minor": 4
}
